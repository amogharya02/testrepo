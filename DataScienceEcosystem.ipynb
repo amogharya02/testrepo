{
 "cells": [
  {
   "cell_type": "markdown",
   "id": "cd9e3c25-da58-4496-9dea-484546e45844",
   "metadata": {},
   "source": [
    "# Data Science Tools and Ecosystem"
   ]
  },
  {
   "cell_type": "markdown",
   "id": "949ed5ed-b1d8-48f0-922d-e5b242e64ed6",
   "metadata": {
    "tags": []
   },
   "source": [
    "In this notebook, Data Science Tools and Ecosystem are summarized."
   ]
  },
  {
   "cell_type": "markdown",
   "id": "e84fdb55-5aaf-4e2a-8f31-468ccbd3dd01",
   "metadata": {},
   "source": [
    "**Objectives:**"
   ]
  },
  {
   "cell_type": "markdown",
   "id": "6392155c-b258-444b-be58-ea12970ad4e5",
   "metadata": {
    "tags": []
   },
   "source": [
    "* popular languages that Data Scientists use are:"
   ]
  },
  {
   "cell_type": "markdown",
   "id": "26529bc9-c73e-496a-9d62-b2f2f23e861e",
   "metadata": {},
   "source": [
    "* Some of the commonly used libraries used by Data Scientists include :"
   ]
  },
  {
   "cell_type": "markdown",
   "id": "93fdc225-6108-47d2-b8ea-8fb20c7644e5",
   "metadata": {},
   "source": [
    "* Data Science Tools"
   ]
  },
  {
   "cell_type": "markdown",
   "id": "50b2f52f-f794-4805-8661-9d9b0dc73e7c",
   "metadata": {
    "tags": []
   },
   "source": [
    "* few examples of evaluating arithmetic expressions in Python"
   ]
  },
  {
   "cell_type": "markdown",
   "id": "bda99de4-eae4-4aa0-9664-576b78e3f660",
   "metadata": {},
   "source": [
    "Some of the popular languages that Data Scientists use are:"
   ]
  },
  {
   "cell_type": "markdown",
   "id": "98ca0f64-f47b-4934-b0d6-00723f6704cb",
   "metadata": {},
   "source": [
    "1. Python\n",
    "2. R\n",
    "3. SQL\n",
    "4. Java\n",
    "5. Julia"
   ]
  },
  {
   "cell_type": "markdown",
   "id": "e0d9fb17-f1ac-4f8e-a0ce-b9109b4ad8a8",
   "metadata": {},
   "source": [
    "Some of the commonly used libraries used by Data Scientists include :"
   ]
  },
  {
   "cell_type": "markdown",
   "id": "f8438985-a535-402b-bb6f-7be1ebeac8e9",
   "metadata": {},
   "source": [
    "1. Tensorflow\n",
    "2. Numpy\n",
    "3. SciPY"
   ]
  },
  {
   "cell_type": "markdown",
   "id": "b7439a11-b985-4689-a23b-1adc9e7e0f4b",
   "metadata": {},
   "source": [
    "| Data Science Tools |\n",
    "| ------------------- |\n",
    "| RStudio |\n",
    "| Apache Spark |\n",
    "| TensorFlow |"
   ]
  },
  {
   "cell_type": "markdown",
   "id": "c6085164-dd9c-4a27-9120-67ac6fec6671",
   "metadata": {},
   "source": [
    "### Below are a few examples of evaluating arithmetic expressions in Python"
   ]
  },
  {
   "cell_type": "code",
   "execution_count": 7,
   "id": "cabeb973-0920-4e8b-a9a1-77e22df31e1f",
   "metadata": {
    "tags": []
   },
   "outputs": [
    {
     "data": {
      "text/plain": [
       "17"
      ]
     },
     "execution_count": 7,
     "metadata": {},
     "output_type": "execute_result"
    }
   ],
   "source": [
    "\"This a simple arithmetic expression to mutiply then add integers\"\n",
    "(3*4)+5"
   ]
  },
  {
   "cell_type": "code",
   "execution_count": 8,
   "id": "c642a2b3-37e4-4906-a53e-b58c8a82cd32",
   "metadata": {
    "tags": []
   },
   "outputs": [
    {
     "data": {
      "text/plain": [
       "3.3333333333333335"
      ]
     },
     "execution_count": 8,
     "metadata": {},
     "output_type": "execute_result"
    }
   ],
   "source": [
    "\"This will convert 200 minutes to hours by diving by 60\"\n",
    "200/60"
   ]
  },
  {
   "cell_type": "markdown",
   "id": "e0608a0e-a2c8-47d7-8ad5-219eadef371f",
   "metadata": {},
   "source": [
    "## Author -\n",
    "Amogh"
   ]
  },
  {
   "cell_type": "code",
   "execution_count": null,
   "id": "d3ebb470-5149-495e-8245-73cc8647b3df",
   "metadata": {},
   "outputs": [],
   "source": []
  }
 ],
 "metadata": {
  "kernelspec": {
   "display_name": "Python",
   "language": "python",
   "name": "conda-env-python-py"
  },
  "language_info": {
   "codemirror_mode": {
    "name": "ipython",
    "version": 3
   },
   "file_extension": ".py",
   "mimetype": "text/x-python",
   "name": "python",
   "nbconvert_exporter": "python",
   "pygments_lexer": "ipython3",
   "version": "3.7.12"
  }
 },
 "nbformat": 4,
 "nbformat_minor": 5
}
